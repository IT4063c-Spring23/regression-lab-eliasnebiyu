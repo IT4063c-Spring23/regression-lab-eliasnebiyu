{
 "cells": [
  {
   "attachments": {},
   "cell_type": "markdown",
   "metadata": {},
   "source": [
    "# Regression Lab\n",
    "\n",
    "## Introduction\n",
    "Regression analysis is an important statistical technique used to model the relationship between a dependent variable and one or more independent variables. It is commonly used in various fields, such as finance, economics, engineering, and social sciences, to make predictions and understand the underlying patterns in data.\n",
    "\n",
    "## Learning Objectives\n",
    "- Practice training Linear Regression models\n",
    "- Practice training Multiple Linear Regression models\n",
    "- Practice training Polynomial Regression models\n",
    "- Practice training Multiple Polynomial Regression models\n",
    "\n",
    "\n",
    "**Emojis Legend**\n",
    "- 👨🏻‍💻 - Instructions; Tells you about something specific you need to do.\n",
    "- 🦉 - Tips; Will tell you about some hints, tips and best practices\n",
    "- 📜 - Documentations; provides links to documentations\n",
    "- 🚩 - Checkpoint; marks a good spot for you to commit your code to git\n",
    "- 🕵️ - Tester; Don't modify code blocks starting with this emoji"
   ]
  },
  {
   "attachments": {},
   "cell_type": "markdown",
   "metadata": {},
   "source": [
    "## Setup\n",
    "* Install this lab's dependencies by running the following command in your terminal: `pipenv install`\n",
    "* Make sure you switch to the correct environment by choosing the correct kernel in the top right corner of the notebook."
   ]
  },
  {
   "attachments": {},
   "cell_type": "markdown",
   "metadata": {},
   "source": [
    "### Package Imports\n",
    "We will keep coming back to this cell to add \"import\" statements, and configure libraries as we need\n",
    "\n",
    "- **Task 👨🏻‍💻**: Keep coming back to update this cell as you need to import new packages.\n",
    "- **Task 👨🏻‍💻**: Check what's already been imported here"
   ]
  },
  {
   "cell_type": "code",
   "execution_count": 1,
   "metadata": {},
   "outputs": [],
   "source": [
    "# Common imports\n",
    "import numpy as np\n",
    "import pandas as pd\n",
    "\n",
    "# To plot pretty figures\n",
    "%matplotlib inline\n",
    "import matplotlib as mpl\n",
    "import matplotlib.pyplot as plt\n",
    "import seaborn as sns\n",
    "import plotly.express as px\n",
    "import plotly.graph_objects as go\n",
    "\n",
    "mpl.rc('axes', labelsize=14)\n",
    "mpl.rc('xtick', labelsize=12)\n",
    "mpl.rc('ytick', labelsize=12)\n",
    "plt.style.use(\"bmh\")\n",
    "\n",
    "# other imports\n",
    "from sklearn.preprocessing import PolynomialFeatures\n",
    "from sklearn.linear_model import LinearRegression"
   ]
  },
  {
   "cell_type": "markdown",
   "metadata": {},
   "source": [
    "## Education-Seniority-Income Data\n",
    "### EDA\n",
    "The following dataset is a collection of data from a survey of 30 people. The data contains the following columns:\n",
    "- `education`: Years of education\n",
    "- `Seniority`: (months?) of work experience\n",
    "- `Income`: Income in thousand dollars\n",
    "\n",
    "<details>\n",
    "  <summary>Data should look like this:</summary>\n",
    "  <img width=\"600\" src=\"https://github.com/IT4063C/images/raw/main/regression-assignment/education-seniority-income-dataset.png\" />\n",
    "</details>"
   ]
  },
  {
   "cell_type": "markdown",
   "metadata": {},
   "source": [
    "**Task 👨🏻‍💻**: Import the (income2.csv) dataset into a Pandas DataFrame:\n",
    "1. name the DataFrame `income_df`\n",
    "2. Print the first 5 rows"
   ]
  },
  {
   "cell_type": "code",
   "execution_count": null,
   "metadata": {},
   "outputs": [],
   "source": []
  },
  {
   "cell_type": "markdown",
   "metadata": {},
   "source": [
    "> 🚩 : Make a git commit here"
   ]
  },
  {
   "attachments": {},
   "cell_type": "markdown",
   "metadata": {},
   "source": [
    "**Task 👨🏻‍💻**: print the DataFrame's information <ins>and</ins> statistical summary\n",
    "\n",
    "_hint:_ wrap your function calls in a `display()` function call so you can put them both in the cell"
   ]
  },
  {
   "cell_type": "code",
   "execution_count": null,
   "metadata": {},
   "outputs": [],
   "source": [
    "# FIXME\n",
    "display(...)\n",
    "display(...)"
   ]
  },
  {
   "cell_type": "markdown",
   "metadata": {},
   "source": [
    "> 🚩 : Make a git commit here"
   ]
  },
  {
   "cell_type": "markdown",
   "metadata": {},
   "source": [
    "**Task 👨🏻‍💻**: Get the correlation matrix of your dataset"
   ]
  },
  {
   "cell_type": "code",
   "execution_count": null,
   "metadata": {},
   "outputs": [],
   "source": []
  },
  {
   "cell_type": "markdown",
   "metadata": {},
   "source": [
    "**Task 👨🏻‍💻**: Plot the correlation matrix of the DataFrame as a heatmap\n",
    "<details>\n",
    "  <summary>Graph should look like this:</summary>\n",
    "  <p>this was created using `seaborn`'s heatmap function</p>\n",
    "  <img width=\"600\" src=\"https://github.com/IT4063C/images/raw/main/regression-assignment/income2-heatmap.png\" />\n",
    "</details>"
   ]
  },
  {
   "cell_type": "code",
   "execution_count": null,
   "metadata": {},
   "outputs": [],
   "source": []
  },
  {
   "cell_type": "markdown",
   "metadata": {},
   "source": [
    "> 🚩 : Make a git commit here"
   ]
  },
  {
   "cell_type": "markdown",
   "metadata": {},
   "source": [
    "**Task 👨🏻‍💻**: Plot the correlation matrix of the DataFrame as a scatter matrix of charts showing the relationship between each pair of variables\n",
    "<details>\n",
    "  <summary>Graph would look like this:</summary>\n",
    "  <img width=\"600\" src=\"https://github.com/IT4063C/images/raw/main/regression-assignment/income2-scatter.png\" />\n",
    "</details>"
   ]
  },
  {
   "cell_type": "code",
   "execution_count": null,
   "metadata": {},
   "outputs": [],
   "source": []
  },
  {
   "cell_type": "markdown",
   "metadata": {},
   "source": [
    "> 🚩 : Make a git commit here"
   ]
  },
  {
   "cell_type": "markdown",
   "metadata": {},
   "source": [
    "**Task 👨🏻‍💻**: using `Plotly` create a 3D scatter plot of the data\n",
    "<details>\n",
    "  <summary>Graph would look like this:</summary>\n",
    "  <img width=\"600\" src=\"https://github.com/IT4063C/images/raw/main/regression-assignment/income-3d.gif\" />\n",
    "</details>"
   ]
  },
  {
   "cell_type": "code",
   "execution_count": null,
   "metadata": {},
   "outputs": [],
   "source": []
  },
  {
   "cell_type": "markdown",
   "metadata": {},
   "source": [
    "> 🚩 : Make a git commit here"
   ]
  },
  {
   "cell_type": "markdown",
   "metadata": {},
   "source": [
    "### Simple Linear Regression"
   ]
  },
  {
   "cell_type": "markdown",
   "metadata": {},
   "source": [
    "**Task 👨🏻‍💻**: Chart a scatter plot of `education` vs `income`\n",
    "<details>\n",
    "  <summary>Graph would look like this:</summary>\n",
    "  <img width=\"600\" src=\"https://github.com/IT4063C/images/raw/main/regression-assignment/income2-edu-income-scatterplot.png\" />\n",
    "</details>"
   ]
  },
  {
   "cell_type": "code",
   "execution_count": null,
   "metadata": {},
   "outputs": [],
   "source": []
  },
  {
   "cell_type": "markdown",
   "metadata": {},
   "source": [
    "> 🚩 : Make a git commit here"
   ]
  },
  {
   "cell_type": "markdown",
   "metadata": {},
   "source": [
    "**Task 👨🏻‍💻**: Use `sklearn` to train a Linear Regression model on the `education` and `income` columns\n",
    "- Just instantiating the model, and fitting the data is enough"
   ]
  },
  {
   "cell_type": "code",
   "execution_count": null,
   "metadata": {},
   "outputs": [],
   "source": []
  },
  {
   "cell_type": "markdown",
   "metadata": {},
   "source": [
    "> 🚩 : Make a git commit here"
   ]
  },
  {
   "cell_type": "markdown",
   "metadata": {},
   "source": [
    "**Task 👨🏻‍💻**: Plot the trained model (line) on top of the scatter plot\n",
    "<details>\n",
    "  <summary>Graph would look like this:</summary>\n",
    "  <img width=\"600\" src=\"https://github.com/IT4063C/images/raw/main/regression-assignment/edu-income-linear-model.png\" />\n",
    "</details>"
   ]
  },
  {
   "cell_type": "code",
   "execution_count": null,
   "metadata": {},
   "outputs": [],
   "source": []
  },
  {
   "cell_type": "markdown",
   "metadata": {},
   "source": [
    "> 🚩 : Make a git commit here"
   ]
  },
  {
   "cell_type": "markdown",
   "metadata": {},
   "source": [
    "**Task 👨🏻‍💻**: Use the `Predict` method to predict the income of a person with 20 years of education\n",
    "\n",
    "_hint:_ it's going to be `85.82661213`"
   ]
  },
  {
   "cell_type": "code",
   "execution_count": null,
   "metadata": {},
   "outputs": [],
   "source": []
  },
  {
   "cell_type": "markdown",
   "metadata": {},
   "source": [
    "> 🚩 : Make a git commit here"
   ]
  },
  {
   "cell_type": "markdown",
   "metadata": {},
   "source": [
    "### Multiple Linear Regression"
   ]
  },
  {
   "cell_type": "markdown",
   "metadata": {},
   "source": [
    "**Task 👨🏻‍💻**: Use `sklearn` to train a Linear Regression model on the `education`, `seniority` and `income` columns\n",
    "- Just instantiating the model, and fitting the data is enough"
   ]
  },
  {
   "cell_type": "code",
   "execution_count": null,
   "metadata": {},
   "outputs": [],
   "source": []
  },
  {
   "cell_type": "markdown",
   "metadata": {},
   "source": [
    "> 🚩 : Make a git commit here"
   ]
  },
  {
   "attachments": {},
   "cell_type": "markdown",
   "metadata": {},
   "source": [
    "**Task 👨🏻‍💻**: Plot the trained model (surface) on top of the scatter plot\n",
    "* You can choose to use `Plotly` or `matplotlib` for this\n",
    "<details>\n",
    "  <summary>Graph would look something like this:</summary>\n",
    "  <img width=\"600\" src=\"https://github.com/IT4063C/images/raw/main/regression-assignment/income-multiple-linear-regression.png\" />\n",
    "</details>"
   ]
  },
  {
   "cell_type": "code",
   "execution_count": null,
   "metadata": {},
   "outputs": [],
   "source": []
  },
  {
   "cell_type": "markdown",
   "metadata": {},
   "source": [
    "> 🚩 : Make a git commit here"
   ]
  },
  {
   "attachments": {},
   "cell_type": "markdown",
   "metadata": {},
   "source": [
    "**✨ Extra Credit Task 👨🏻‍💻**: For 3 Points: Plot the trained model (surface) on top of the scatterplot using the other package\n",
    "* If you used `Plotly`, use `matplotlib` and vice versa"
   ]
  },
  {
   "cell_type": "code",
   "execution_count": null,
   "metadata": {},
   "outputs": [],
   "source": []
  },
  {
   "cell_type": "markdown",
   "metadata": {},
   "source": [
    "> 🚩 : Make a git commit here"
   ]
  },
  {
   "cell_type": "markdown",
   "metadata": {},
   "source": [
    "**Task 👨🏻‍💻**: Use the `Predict` method to predict the income of a person with `15` years of education, and seniority score of `75`\n",
    "\n",
    "\n",
    "_Hint:_ it should be `51.31186086`"
   ]
  },
  {
   "cell_type": "code",
   "execution_count": null,
   "metadata": {},
   "outputs": [],
   "source": []
  },
  {
   "cell_type": "markdown",
   "metadata": {},
   "source": [
    "> 🚩 : Make a git commit here"
   ]
  },
  {
   "cell_type": "markdown",
   "metadata": {},
   "source": [
    "### Polynomial Regression"
   ]
  },
  {
   "cell_type": "markdown",
   "metadata": {},
   "source": [
    "**Task 👨🏻‍💻**: Use `sklearn` to train a Polynomial Regression model (of the second degree) on the `education` and `income` columns\n",
    "- Just instantiating the model, and fitting the data is enough\n",
    "- You'll need to use the `PolynomialFeatures` class to transform the data into a polynomial form"
   ]
  },
  {
   "cell_type": "code",
   "execution_count": null,
   "metadata": {},
   "outputs": [],
   "source": []
  },
  {
   "cell_type": "markdown",
   "metadata": {},
   "source": [
    "> 🚩 : Make a git commit here"
   ]
  },
  {
   "cell_type": "markdown",
   "metadata": {},
   "source": [
    "**Task 👨🏻‍💻**: Plot the trained model (curve) on top of the scatter plot\n",
    "<details>\n",
    "  <summary>Graph would look like this:</summary>\n",
    "  <img width=\"600\" src=\"https://github.com/IT4063C/images/raw/main/regression-assignment/edu-income-polynomial-model.png\" />\n",
    "</details>"
   ]
  },
  {
   "cell_type": "code",
   "execution_count": null,
   "metadata": {},
   "outputs": [],
   "source": []
  },
  {
   "cell_type": "markdown",
   "metadata": {},
   "source": [
    "> 🚩 : Make a git commit here"
   ]
  },
  {
   "cell_type": "markdown",
   "metadata": {},
   "source": [
    "**Task 👨🏻‍💻**: Use the `Predict` method to predict the income of a person with `11` years of education\n",
    "\n",
    "\n",
    "_Hint:_ \n",
    "- it should be `25.48739205`\n",
    "- You will need to create a numpy array of the input data, and reshape it. `np.array([11]).reshape(1, -1)`\n",
    "- You will need to `fit-transform` the input data before you can `predict` it"
   ]
  },
  {
   "cell_type": "code",
   "execution_count": null,
   "metadata": {},
   "outputs": [],
   "source": []
  },
  {
   "cell_type": "markdown",
   "metadata": {},
   "source": [
    "> 🚩 : Make a git commit here"
   ]
  },
  {
   "cell_type": "markdown",
   "metadata": {},
   "source": [
    "### Multiple Polynomial Regression"
   ]
  },
  {
   "cell_type": "markdown",
   "metadata": {},
   "source": [
    "**Task 👨🏻‍💻**: Use `sklearn` to train a Multiple Polynomial Regression model (of the third degree) on the `education`, `seniority` and `income` columns\n",
    "\n",
    "_Hint:_\n",
    "- Just instantiating the model, and fitting the data is enough\n",
    "- You'll need to use the `PolynomialFeatures` class to transform the data into a polynomial form"
   ]
  },
  {
   "cell_type": "code",
   "execution_count": null,
   "metadata": {},
   "outputs": [],
   "source": []
  },
  {
   "cell_type": "markdown",
   "metadata": {},
   "source": [
    "> 🚩 : Make a git commit here"
   ]
  },
  {
   "attachments": {},
   "cell_type": "markdown",
   "metadata": {},
   "source": [
    "**Task 👨🏻‍💻**: Plot the trained model (curved surface) on top of the scatter plot\n",
    "* You can choose to use `Plotly` or `matplotlib` for this\n",
    "<details>\n",
    "  <summary>Graph would look like this:</summary>\n",
    "  <img width=\"600\" src=\"https://github.com/IT4063C/images/raw/main/regression-assignment/3rd-dec-income-surface.png\" />\n",
    "</details>"
   ]
  },
  {
   "cell_type": "code",
   "execution_count": null,
   "metadata": {},
   "outputs": [],
   "source": []
  },
  {
   "cell_type": "markdown",
   "metadata": {},
   "source": [
    "> 🚩 : Make a git commit here"
   ]
  },
  {
   "attachments": {},
   "cell_type": "markdown",
   "metadata": {},
   "source": [
    "**✨ Extra Credit Task 👨🏻‍💻**: For 3 Points: Plot the trained model (curved surface) on top of the scatterplot using the other package\n",
    "* If you used `Plotly`, use `matplotlib` and vice versa"
   ]
  },
  {
   "cell_type": "code",
   "execution_count": null,
   "metadata": {},
   "outputs": [],
   "source": []
  },
  {
   "cell_type": "markdown",
   "metadata": {},
   "source": [
    "> 🚩 : Make a git commit here"
   ]
  },
  {
   "attachments": {},
   "cell_type": "markdown",
   "metadata": {},
   "source": [
    "## Wrap up\n",
    "### 📝 Reflection\n",
    "- What did you learn from this assignment?\n",
    "- What was the most challenging part of this assignment?\n",
    "- What would you do differently next time?"
   ]
  },
  {
   "cell_type": "raw",
   "metadata": {},
   "source": []
  },
  {
   "attachments": {},
   "cell_type": "markdown",
   "metadata": {},
   "source": [
    "### Citations\n",
    "Cite any resources you used to complete this assignment\n",
    "\n",
    "This includes: \n",
    "- Individuals other than the instructor\n",
    "- Websites\n",
    "- Videos\n",
    "- AI assistants such as GitHub Copilot or ChatGPT"
   ]
  },
  {
   "attachments": {},
   "cell_type": "markdown",
   "metadata": {},
   "source": [
    "#### 🦉: MAKE SURE YOU RUN THE FOLLOWING CELL BEFORE SUBMITTING\n",
    "The following command converts this Jupyter notebook to a Python script. This allows me to provide feedback on your code."
   ]
  },
  {
   "cell_type": "code",
   "execution_count": 10,
   "metadata": {},
   "outputs": [
    {
     "name": "stdout",
     "output_type": "stream",
     "text": [
      "[NbConvertApp] Converting notebook regression-notebook.ipynb to python\n",
      "[NbConvertApp] Writing 9078 bytes to regression-notebook.py\n"
     ]
    }
   ],
   "source": [
    "!jupyter nbconvert --to python regression-notebook.ipynb"
   ]
  },
  {
   "cell_type": "markdown",
   "metadata": {},
   "source": [
    "> 🚩 : Make a git commit here"
   ]
  }
 ],
 "metadata": {
  "kernelspec": {
   "display_name": "Python 3.10.6 ('Sandbox-HnbTDpGS')",
   "language": "python",
   "name": "python3"
  },
  "language_info": {
   "codemirror_mode": {
    "name": "ipython",
    "version": 3
   },
   "file_extension": ".py",
   "mimetype": "text/x-python",
   "name": "python",
   "nbconvert_exporter": "python",
   "pygments_lexer": "ipython3",
   "version": "3.10.9"
  },
  "nav_menu": {
   "height": "279px",
   "width": "309px"
  },
  "toc": {
   "nav_menu": {},
   "number_sections": true,
   "sideBar": true,
   "skip_h1_title": false,
   "toc_cell": false,
   "toc_position": {},
   "toc_section_display": "block",
   "toc_window_display": false
  },
  "vscode": {
   "interpreter": {
    "hash": "af1c6585e93c23c7664674f9ced45a31a4054cdb8480387a631c4a4c3b6a5322"
   }
  }
 },
 "nbformat": 4,
 "nbformat_minor": 4
}
